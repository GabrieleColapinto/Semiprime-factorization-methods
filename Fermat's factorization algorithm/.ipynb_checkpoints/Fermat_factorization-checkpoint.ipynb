{
 "cells": [
  {
   "cell_type": "code",
   "execution_count": 1,
   "id": "52d32d5d-8ee5-4dc8-9e29-9bd33865699e",
   "metadata": {},
   "outputs": [],
   "source": [
    "from math import sqrt, ceil"
   ]
  },
  {
   "cell_type": "code",
   "execution_count": 2,
   "id": "d627a97a-8b64-4392-b8f5-ce3c9b48573e",
   "metadata": {},
   "outputs": [],
   "source": [
    "#Parameters\n",
    "N = 91 # Number to be factored\n",
    "\n",
    "# Loop variables\n",
    "x_base = ceil(sqrt(N))\n",
    "x,y_2 = 0,0\n",
    "result_x, result_y = 0,0\n",
    "\n",
    "#Two prime factors of N\n",
    "p,q = 0,0"
   ]
  },
  {
   "cell_type": "code",
   "execution_count": 3,
   "id": "2f595609-e907-4c50-8499-08b0bee8a30f",
   "metadata": {},
   "outputs": [
    {
     "name": "stdout",
     "output_type": "stream",
     "text": [
      "x = 10 and y = 3\n"
     ]
    }
   ],
   "source": [
    "# We look for two numbers x and y such that x^2 - N = y^2 and y^2 is a square of an integer\n",
    "for x in range(x_base, N):\n",
    "    y_2 = x**2-N\n",
    "    temp = sqrt(y_2)\n",
    "    if(float.is_integer(temp)):\n",
    "        result_x = x\n",
    "        result_y = int(temp)\n",
    "        break\n",
    "\n",
    "print(\"x = %i and y = %i\" % (result_x, result_y))"
   ]
  },
  {
   "cell_type": "code",
   "execution_count": 4,
   "id": "e7975125-f360-4cf4-b04c-3b6b9d2bbd81",
   "metadata": {},
   "outputs": [
    {
     "name": "stdout",
     "output_type": "stream",
     "text": [
      "The two factors of 91 are 13 and 7\n"
     ]
    }
   ],
   "source": [
    "#We calculate the two prime factors of N\n",
    "p = result_x + result_y\n",
    "q = result_x - result_y\n",
    "\n",
    "print(\"The two factors of %i are %i and %i\" % (N, p, q))"
   ]
  }
 ],
 "metadata": {
  "kernelspec": {
   "display_name": "Python 3 (ipykernel)",
   "language": "python",
   "name": "python3"
  },
  "language_info": {
   "codemirror_mode": {
    "name": "ipython",
    "version": 3
   },
   "file_extension": ".py",
   "mimetype": "text/x-python",
   "name": "python",
   "nbconvert_exporter": "python",
   "pygments_lexer": "ipython3",
   "version": "3.11.3"
  }
 },
 "nbformat": 4,
 "nbformat_minor": 5
}
