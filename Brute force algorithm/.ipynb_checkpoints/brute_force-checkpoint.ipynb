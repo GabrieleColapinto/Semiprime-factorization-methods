{
 "cells": [
  {
   "cell_type": "code",
   "execution_count": 1,
   "id": "006eaa5f-05d4-4de1-a090-93290ab71392",
   "metadata": {},
   "outputs": [
    {
     "name": "stdout",
     "output_type": "stream",
     "text": [
      "The two factors of 745286279 are 27239 and 27361\n",
      "\n"
     ]
    }
   ],
   "source": [
    "import numpy as np\n",
    "\n",
    "N = 745286279 #Number to be factored\n",
    "f1 = f2 = 1 #Factors of N\n",
    "found = False #Variable telling whether the first factor has been found\n",
    "\n",
    "while (not(found)):\n",
    "    f1 += 1\n",
    "    if(np.mod(N, f1) == 0):\n",
    "        found = True\n",
    "\n",
    "#At this point the first factor has been found\n",
    "f2 = N/f1\n",
    "print(\"The two factors of %d are %d and %d\\n\" % (N, f1, f2))"
   ]
  }
 ],
 "metadata": {
  "kernelspec": {
   "display_name": "Python 3 (ipykernel)",
   "language": "python",
   "name": "python3"
  },
  "language_info": {
   "codemirror_mode": {
    "name": "ipython",
    "version": 3
   },
   "file_extension": ".py",
   "mimetype": "text/x-python",
   "name": "python",
   "nbconvert_exporter": "python",
   "pygments_lexer": "ipython3",
   "version": "3.11.3"
  }
 },
 "nbformat": 4,
 "nbformat_minor": 5
}
