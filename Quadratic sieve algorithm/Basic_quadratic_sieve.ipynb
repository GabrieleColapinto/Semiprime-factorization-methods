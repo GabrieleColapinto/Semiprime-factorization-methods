{
 "cells": [
  {
   "cell_type": "code",
   "execution_count": 1,
   "id": "5b405d64-e1c2-4060-bbda-11ffd9e4ac40",
   "metadata": {},
   "outputs": [],
   "source": [
    "from math import sqrt, ceil\n",
    "import sympy as sp\n",
    "from math import gcd"
   ]
  },
  {
   "cell_type": "code",
   "execution_count": 2,
   "id": "918dbe56-d0ec-4d11-96ef-feddcc848298",
   "metadata": {},
   "outputs": [],
   "source": [
    "# Number to be factored and upper bound of the prime numbers\n",
    "N = 20791\n",
    "B = 50\n",
    "\n",
    "# We set the initial value of x such that x^2 - N > 0\n",
    "x_base = ceil(sqrt(N))\n",
    "\n",
    "# Initialization of the lists\n",
    "relations = []\n",
    "smooth_relations = []\n",
    "factorized_y_2 = []"
   ]
  },
  {
   "cell_type": "code",
   "execution_count": 3,
   "id": "c4ea7521-3fe5-46ea-b0d0-1a52786678bf",
   "metadata": {},
   "outputs": [
    {
     "name": "stdout",
     "output_type": "stream",
     "text": [
      "The prime numbers up to B are: [2, 3, 5, 7, 11, 13, 17, 19, 23, 29, 31, 37, 41, 43, 47]\n"
     ]
    }
   ],
   "source": [
    "# Computation of the prime numbers up to B\n",
    "primes = [2]\n",
    "for i in range(3, B, 2):\n",
    "    is_prime = True\n",
    "    for j in primes:\n",
    "        if(i%j == 0):\n",
    "            is_prime = False\n",
    "            break\n",
    "    if(is_prime):\n",
    "        primes.append(i)\n",
    "print(\"The prime numbers up to B are: \" + str(primes))\n",
    "# It is not necessary to compute the prime numbers every time,\n",
    "# they can be hard coded and we can decide to use them if they\n",
    "# are smaller than B.\n",
    "# Here are the prime numbers smaller than 100:\n",
    "# primes = [2, 3, 5, 7, 11, 13, 17, 19, 23, 29, 31, 37, 41, 43, 47, 53, 59, 61, 67, 71, 73, 79, 83, 89, 97]"
   ]
  },
  {
   "cell_type": "code",
   "execution_count": 4,
   "id": "b116264f-59f5-4595-906f-0c10b0d10c31",
   "metadata": {},
   "outputs": [],
   "source": [
    "# Let us compute the relations: y^2 = x^2 (mod N)\n",
    "\n",
    "# It is a good practice to set the number of relations to at least 6 times\n",
    "# the upper bound of the prime numbers\n",
    "n_relations = 6*len(primes)\n",
    "\n",
    "for x in range(x_base, x_base + n_relations):\n",
    "    x_2 = x**2\n",
    "    y_2 = (x_2)%N\n",
    "    relations.append([x_2, y_2])"
   ]
  },
  {
   "cell_type": "code",
   "execution_count": 5,
   "id": "c92ed315-a27e-4565-9ee8-74e88d76df2e",
   "metadata": {},
   "outputs": [],
   "source": [
    "# Let us factorize the y^2 values using the list of primes\n",
    "for i in range(n_relations):\n",
    "    y_2_element = relations[i][1]\n",
    "    y_2_factors = []\n",
    "    j = 0\n",
    "    while(j < len(primes) and y_2_element > 1):\n",
    "        # Some number could have prime factors which are not included in the ones listed so\n",
    "        # we have to make sure that the index of the element is plausible\n",
    "        while(y_2_element % primes[j] == 0):\n",
    "            y_2_element = y_2_element / primes[j]\n",
    "            y_2_factors.append(primes[j])\n",
    "        j += 1\n",
    "    # At this point it is possible to have numbers which are not completely factored because\n",
    "    # all the prime numbers they are made of are not included in the primes list.\n",
    "    # In this case the y_2_element is greater than one.\n",
    "    # We can use this property to keep only the y_2 which are completely factorized\n",
    "    if(y_2_element == 1):\n",
    "        factorized_y_2.append(y_2_factors)\n",
    "        smooth_relations.append(relations[i])"
   ]
  },
  {
   "cell_type": "code",
   "execution_count": 6,
   "id": "894f6c86-91c9-442c-b4b7-bd585a810629",
   "metadata": {},
   "outputs": [
    {
     "data": {
      "text/latex": [
       "$\\displaystyle \\left[\\begin{array}{ccccccccccccccc}1 & 2 & 0 & 0 & 0 & 1 & 0 & 0 & 0 & 0 & 0 & 0 & 0 & 0 & 0\\\\0 & 1 & 2 & 1 & 0 & 0 & 0 & 0 & 0 & 0 & 0 & 0 & 0 & 0 & 0\\\\1 & 1 & 1 & 0 & 0 & 0 & 0 & 0 & 0 & 0 & 0 & 0 & 0 & 0 & 1\\\\1 & 0 & 0 & 1 & 1 & 0 & 1 & 0 & 0 & 0 & 0 & 0 & 0 & 0 & 0\\\\0 & 2 & 2 & 0 & 0 & 1 & 0 & 0 & 0 & 0 & 0 & 0 & 0 & 0 & 0\\\\1 & 1 & 0 & 2 & 1 & 0 & 0 & 0 & 0 & 0 & 0 & 0 & 0 & 0 & 0\\\\1 & 3 & 1 & 0 & 0 & 0 & 0 & 1 & 0 & 0 & 0 & 0 & 0 & 0 & 0\\\\0 & 0 & 0 & 1 & 0 & 0 & 0 & 1 & 0 & 0 & 0 & 0 & 1 & 0 & 0\\\\0 & 1 & 1 & 0 & 1 & 0 & 0 & 0 & 0 & 0 & 0 & 1 & 0 & 0 & 0\\\\0 & 1 & 1 & 0 & 1 & 0 & 0 & 0 & 0 & 0 & 0 & 0 & 1 & 0 & 0\\\\1 & 1 & 0 & 1 & 0 & 2 & 0 & 0 & 0 & 0 & 0 & 0 & 0 & 0 & 0\\\\1 & 1 & 1 & 1 & 0 & 0 & 0 & 0 & 0 & 0 & 0 & 1 & 0 & 0 & 0\\\\1 & 0 & 2 & 0 & 0 & 2 & 0 & 0 & 0 & 0 & 0 & 0 & 0 & 0 & 0\\\\1 & 2 & 4 & 0 & 0 & 0 & 0 & 0 & 0 & 0 & 0 & 0 & 0 & 0 & 0\\\\0 & 0 & 0 & 0 & 0 & 1 & 0 & 1 & 0 & 0 & 0 & 0 & 0 & 0 & 1\\\\1 & 2 & 1 & 1 & 0 & 0 & 0 & 1 & 0 & 0 & 0 & 0 & 0 & 0 & 0\\\\0 & 3 & 0 & 2 & 1 & 0 & 0 & 0 & 0 & 0 & 0 & 0 & 0 & 0 & 0\\\\0 & 7 & 0 & 1 & 0 & 0 & 0 & 0 & 0 & 0 & 0 & 0 & 0 & 0 & 0\\\\0 & 1 & 3 & 0 & 0 & 0 & 0 & 0 & 0 & 0 & 0 & 0 & 0 & 0 & 1\\\\1 & 2 & 0 & 1 & 1 & 1 & 0 & 0 & 0 & 0 & 0 & 0 & 0 & 0 & 0\\\\1 & 2 & 1 & 0 & 1 & 0 & 0 & 1 & 0 & 0 & 0 & 0 & 0 & 0 & 0\\\\1 & 0 & 0 & 0 & 0 & 0 & 1 & 0 & 0 & 0 & 0 & 0 & 0 & 0 & 0\\\\1 & 0 & 0 & 0 & 0 & 0 & 0 & 0 & 0 & 2 & 0 & 0 & 0 & 0 & 0\\\\1 & 0 & 0 & 0 & 0 & 0 & 0 & 0 & 0 & 0 & 0 & 0 & 2 & 0 & 0\\\\1 & 0 & 0 & 2 & 0 & 0 & 0 & 0 & 0 & 0 & 0 & 0 & 0 & 1 & 0\\\\0 & 0 & 0 & 3 & 0 & 0 & 0 & 0 & 0 & 1 & 0 & 0 & 0 & 0 & 0\\end{array}\\right]$"
      ],
      "text/plain": [
       "Matrix([\n",
       "[1, 2, 0, 0, 0, 1, 0, 0, 0, 0, 0, 0, 0, 0, 0],\n",
       "[0, 1, 2, 1, 0, 0, 0, 0, 0, 0, 0, 0, 0, 0, 0],\n",
       "[1, 1, 1, 0, 0, 0, 0, 0, 0, 0, 0, 0, 0, 0, 1],\n",
       "[1, 0, 0, 1, 1, 0, 1, 0, 0, 0, 0, 0, 0, 0, 0],\n",
       "[0, 2, 2, 0, 0, 1, 0, 0, 0, 0, 0, 0, 0, 0, 0],\n",
       "[1, 1, 0, 2, 1, 0, 0, 0, 0, 0, 0, 0, 0, 0, 0],\n",
       "[1, 3, 1, 0, 0, 0, 0, 1, 0, 0, 0, 0, 0, 0, 0],\n",
       "[0, 0, 0, 1, 0, 0, 0, 1, 0, 0, 0, 0, 1, 0, 0],\n",
       "[0, 1, 1, 0, 1, 0, 0, 0, 0, 0, 0, 1, 0, 0, 0],\n",
       "[0, 1, 1, 0, 1, 0, 0, 0, 0, 0, 0, 0, 1, 0, 0],\n",
       "[1, 1, 0, 1, 0, 2, 0, 0, 0, 0, 0, 0, 0, 0, 0],\n",
       "[1, 1, 1, 1, 0, 0, 0, 0, 0, 0, 0, 1, 0, 0, 0],\n",
       "[1, 0, 2, 0, 0, 2, 0, 0, 0, 0, 0, 0, 0, 0, 0],\n",
       "[1, 2, 4, 0, 0, 0, 0, 0, 0, 0, 0, 0, 0, 0, 0],\n",
       "[0, 0, 0, 0, 0, 1, 0, 1, 0, 0, 0, 0, 0, 0, 1],\n",
       "[1, 2, 1, 1, 0, 0, 0, 1, 0, 0, 0, 0, 0, 0, 0],\n",
       "[0, 3, 0, 2, 1, 0, 0, 0, 0, 0, 0, 0, 0, 0, 0],\n",
       "[0, 7, 0, 1, 0, 0, 0, 0, 0, 0, 0, 0, 0, 0, 0],\n",
       "[0, 1, 3, 0, 0, 0, 0, 0, 0, 0, 0, 0, 0, 0, 1],\n",
       "[1, 2, 0, 1, 1, 1, 0, 0, 0, 0, 0, 0, 0, 0, 0],\n",
       "[1, 2, 1, 0, 1, 0, 0, 1, 0, 0, 0, 0, 0, 0, 0],\n",
       "[1, 0, 0, 0, 0, 0, 1, 0, 0, 0, 0, 0, 0, 0, 0],\n",
       "[1, 0, 0, 0, 0, 0, 0, 0, 0, 2, 0, 0, 0, 0, 0],\n",
       "[1, 0, 0, 0, 0, 0, 0, 0, 0, 0, 0, 0, 2, 0, 0],\n",
       "[1, 0, 0, 2, 0, 0, 0, 0, 0, 0, 0, 0, 0, 1, 0],\n",
       "[0, 0, 0, 3, 0, 0, 0, 0, 0, 1, 0, 0, 0, 0, 0]])"
      ]
     },
     "execution_count": 6,
     "metadata": {},
     "output_type": "execute_result"
    }
   ],
   "source": [
    "# At this point we have to create a matrix with one row for every smooth relation\n",
    "# and a column for every prime number \n",
    "matrix = sp.zeros(len(smooth_relations), len(primes))\n",
    "\n",
    "# We have to fill the matrix with the number of each prime factor y_2 is made of\n",
    "for i in range(len(smooth_relations)):\n",
    "    for j in range(len(primes)):\n",
    "        matrix[i, j] = factorized_y_2[i].count(primes[j])\n",
    "\n",
    "matrix"
   ]
  },
  {
   "cell_type": "code",
   "execution_count": 7,
   "id": "26827688-b932-4b5a-b221-98087ec1129d",
   "metadata": {},
   "outputs": [
    {
     "data": {
      "text/latex": [
       "$\\displaystyle \\left[\\begin{array}{ccccccccccccccc}1 & 0 & 0 & 0 & 0 & 1 & 0 & 0 & 0 & 0 & 0 & 0 & 0 & 0 & 0\\\\0 & 1 & 0 & 1 & 0 & 0 & 0 & 0 & 0 & 0 & 0 & 0 & 0 & 0 & 0\\\\1 & 1 & 1 & 0 & 0 & 0 & 0 & 0 & 0 & 0 & 0 & 0 & 0 & 0 & 1\\\\1 & 0 & 0 & 1 & 1 & 0 & 1 & 0 & 0 & 0 & 0 & 0 & 0 & 0 & 0\\\\0 & 0 & 0 & 0 & 0 & 1 & 0 & 0 & 0 & 0 & 0 & 0 & 0 & 0 & 0\\\\1 & 1 & 0 & 0 & 1 & 0 & 0 & 0 & 0 & 0 & 0 & 0 & 0 & 0 & 0\\\\1 & 1 & 1 & 0 & 0 & 0 & 0 & 1 & 0 & 0 & 0 & 0 & 0 & 0 & 0\\\\0 & 0 & 0 & 1 & 0 & 0 & 0 & 1 & 0 & 0 & 0 & 0 & 1 & 0 & 0\\\\0 & 1 & 1 & 0 & 1 & 0 & 0 & 0 & 0 & 0 & 0 & 1 & 0 & 0 & 0\\\\0 & 1 & 1 & 0 & 1 & 0 & 0 & 0 & 0 & 0 & 0 & 0 & 1 & 0 & 0\\\\1 & 1 & 0 & 1 & 0 & 0 & 0 & 0 & 0 & 0 & 0 & 0 & 0 & 0 & 0\\\\1 & 1 & 1 & 1 & 0 & 0 & 0 & 0 & 0 & 0 & 0 & 1 & 0 & 0 & 0\\\\1 & 0 & 0 & 0 & 0 & 0 & 0 & 0 & 0 & 0 & 0 & 0 & 0 & 0 & 0\\\\1 & 0 & 0 & 0 & 0 & 0 & 0 & 0 & 0 & 0 & 0 & 0 & 0 & 0 & 0\\\\0 & 0 & 0 & 0 & 0 & 1 & 0 & 1 & 0 & 0 & 0 & 0 & 0 & 0 & 1\\\\1 & 0 & 1 & 1 & 0 & 0 & 0 & 1 & 0 & 0 & 0 & 0 & 0 & 0 & 0\\\\0 & 1 & 0 & 0 & 1 & 0 & 0 & 0 & 0 & 0 & 0 & 0 & 0 & 0 & 0\\\\0 & 1 & 0 & 1 & 0 & 0 & 0 & 0 & 0 & 0 & 0 & 0 & 0 & 0 & 0\\\\0 & 1 & 1 & 0 & 0 & 0 & 0 & 0 & 0 & 0 & 0 & 0 & 0 & 0 & 1\\\\1 & 0 & 0 & 1 & 1 & 1 & 0 & 0 & 0 & 0 & 0 & 0 & 0 & 0 & 0\\\\1 & 0 & 1 & 0 & 1 & 0 & 0 & 1 & 0 & 0 & 0 & 0 & 0 & 0 & 0\\\\1 & 0 & 0 & 0 & 0 & 0 & 1 & 0 & 0 & 0 & 0 & 0 & 0 & 0 & 0\\\\1 & 0 & 0 & 0 & 0 & 0 & 0 & 0 & 0 & 0 & 0 & 0 & 0 & 0 & 0\\\\1 & 0 & 0 & 0 & 0 & 0 & 0 & 0 & 0 & 0 & 0 & 0 & 0 & 0 & 0\\\\1 & 0 & 0 & 0 & 0 & 0 & 0 & 0 & 0 & 0 & 0 & 0 & 0 & 1 & 0\\\\0 & 0 & 0 & 1 & 0 & 0 & 0 & 0 & 0 & 1 & 0 & 0 & 0 & 0 & 0\\end{array}\\right]$"
      ],
      "text/plain": [
       "Matrix([\n",
       "[1, 0, 0, 0, 0, 1, 0, 0, 0, 0, 0, 0, 0, 0, 0],\n",
       "[0, 1, 0, 1, 0, 0, 0, 0, 0, 0, 0, 0, 0, 0, 0],\n",
       "[1, 1, 1, 0, 0, 0, 0, 0, 0, 0, 0, 0, 0, 0, 1],\n",
       "[1, 0, 0, 1, 1, 0, 1, 0, 0, 0, 0, 0, 0, 0, 0],\n",
       "[0, 0, 0, 0, 0, 1, 0, 0, 0, 0, 0, 0, 0, 0, 0],\n",
       "[1, 1, 0, 0, 1, 0, 0, 0, 0, 0, 0, 0, 0, 0, 0],\n",
       "[1, 1, 1, 0, 0, 0, 0, 1, 0, 0, 0, 0, 0, 0, 0],\n",
       "[0, 0, 0, 1, 0, 0, 0, 1, 0, 0, 0, 0, 1, 0, 0],\n",
       "[0, 1, 1, 0, 1, 0, 0, 0, 0, 0, 0, 1, 0, 0, 0],\n",
       "[0, 1, 1, 0, 1, 0, 0, 0, 0, 0, 0, 0, 1, 0, 0],\n",
       "[1, 1, 0, 1, 0, 0, 0, 0, 0, 0, 0, 0, 0, 0, 0],\n",
       "[1, 1, 1, 1, 0, 0, 0, 0, 0, 0, 0, 1, 0, 0, 0],\n",
       "[1, 0, 0, 0, 0, 0, 0, 0, 0, 0, 0, 0, 0, 0, 0],\n",
       "[1, 0, 0, 0, 0, 0, 0, 0, 0, 0, 0, 0, 0, 0, 0],\n",
       "[0, 0, 0, 0, 0, 1, 0, 1, 0, 0, 0, 0, 0, 0, 1],\n",
       "[1, 0, 1, 1, 0, 0, 0, 1, 0, 0, 0, 0, 0, 0, 0],\n",
       "[0, 1, 0, 0, 1, 0, 0, 0, 0, 0, 0, 0, 0, 0, 0],\n",
       "[0, 1, 0, 1, 0, 0, 0, 0, 0, 0, 0, 0, 0, 0, 0],\n",
       "[0, 1, 1, 0, 0, 0, 0, 0, 0, 0, 0, 0, 0, 0, 1],\n",
       "[1, 0, 0, 1, 1, 1, 0, 0, 0, 0, 0, 0, 0, 0, 0],\n",
       "[1, 0, 1, 0, 1, 0, 0, 1, 0, 0, 0, 0, 0, 0, 0],\n",
       "[1, 0, 0, 0, 0, 0, 1, 0, 0, 0, 0, 0, 0, 0, 0],\n",
       "[1, 0, 0, 0, 0, 0, 0, 0, 0, 0, 0, 0, 0, 0, 0],\n",
       "[1, 0, 0, 0, 0, 0, 0, 0, 0, 0, 0, 0, 0, 0, 0],\n",
       "[1, 0, 0, 0, 0, 0, 0, 0, 0, 0, 0, 0, 0, 1, 0],\n",
       "[0, 0, 0, 1, 0, 0, 0, 0, 0, 1, 0, 0, 0, 0, 0]])"
      ]
     },
     "execution_count": 7,
     "metadata": {},
     "output_type": "execute_result"
    }
   ],
   "source": [
    "# To make the computation easier we can transform the elements of the matrix\n",
    "# in the parities of each exponent\n",
    "for i in range(len(smooth_relations)):\n",
    "    for j in range(len(primes)):\n",
    "        matrix[i, j] = matrix[i, j]%2\n",
    "\n",
    "matrix"
   ]
  },
  {
   "cell_type": "code",
   "execution_count": 8,
   "id": "c3edef87-bceb-4ec1-80fe-2b2227f11b5c",
   "metadata": {},
   "outputs": [
    {
     "name": "stdout",
     "output_type": "stream",
     "text": [
      "Left Null Space of the Matrix:\n",
      "⎡⎡-1⎤  ⎡-2⎤  ⎡-1⎤  ⎡-1⎤  ⎡2 ⎤  ⎡1 ⎤  ⎡0 ⎤  ⎡1 ⎤  ⎡0 ⎤  ⎡1 ⎤  ⎡-1⎤  ⎡-1⎤  ⎡-1⎤⎤\n",
      "⎢⎢  ⎥  ⎢  ⎥  ⎢  ⎥  ⎢  ⎥  ⎢  ⎥  ⎢  ⎥  ⎢  ⎥  ⎢  ⎥  ⎢  ⎥  ⎢  ⎥  ⎢  ⎥  ⎢  ⎥  ⎢  ⎥⎥\n",
      "⎢⎢-1⎥  ⎢-1⎥  ⎢0 ⎥  ⎢0 ⎥  ⎢1 ⎥  ⎢0 ⎥  ⎢-1⎥  ⎢0 ⎥  ⎢0 ⎥  ⎢1 ⎥  ⎢0 ⎥  ⎢0 ⎥  ⎢0 ⎥⎥\n",
      "⎢⎢  ⎥  ⎢  ⎥  ⎢  ⎥  ⎢  ⎥  ⎢  ⎥  ⎢  ⎥  ⎢  ⎥  ⎢  ⎥  ⎢  ⎥  ⎢  ⎥  ⎢  ⎥  ⎢  ⎥  ⎢  ⎥⎥\n",
      "⎢⎢0 ⎥  ⎢0 ⎥  ⎢0 ⎥  ⎢0 ⎥  ⎢-1⎥  ⎢0 ⎥  ⎢0 ⎥  ⎢-1⎥  ⎢0 ⎥  ⎢0 ⎥  ⎢0 ⎥  ⎢0 ⎥  ⎢0 ⎥⎥\n",
      "⎢⎢  ⎥  ⎢  ⎥  ⎢  ⎥  ⎢  ⎥  ⎢  ⎥  ⎢  ⎥  ⎢  ⎥  ⎢  ⎥  ⎢  ⎥  ⎢  ⎥  ⎢  ⎥  ⎢  ⎥  ⎢  ⎥⎥\n",
      "⎢⎢0 ⎥  ⎢0 ⎥  ⎢0 ⎥  ⎢0 ⎥  ⎢0 ⎥  ⎢0 ⎥  ⎢0 ⎥  ⎢0 ⎥  ⎢0 ⎥  ⎢0 ⎥  ⎢-1⎥  ⎢0 ⎥  ⎢0 ⎥⎥\n",
      "⎢⎢  ⎥  ⎢  ⎥  ⎢  ⎥  ⎢  ⎥  ⎢  ⎥  ⎢  ⎥  ⎢  ⎥  ⎢  ⎥  ⎢  ⎥  ⎢  ⎥  ⎢  ⎥  ⎢  ⎥  ⎢  ⎥⎥\n",
      "⎢⎢1 ⎥  ⎢2 ⎥  ⎢1 ⎥  ⎢1 ⎥  ⎢-3⎥  ⎢-1⎥  ⎢0 ⎥  ⎢-1⎥  ⎢-1⎥  ⎢-1⎥  ⎢1 ⎥  ⎢1 ⎥  ⎢1 ⎥⎥\n",
      "⎢⎢  ⎥  ⎢  ⎥  ⎢  ⎥  ⎢  ⎥  ⎢  ⎥  ⎢  ⎥  ⎢  ⎥  ⎢  ⎥  ⎢  ⎥  ⎢  ⎥  ⎢  ⎥  ⎢  ⎥  ⎢  ⎥⎥\n",
      "⎢⎢0 ⎥  ⎢1 ⎥  ⎢0 ⎥  ⎢0 ⎥  ⎢-1⎥  ⎢-1⎥  ⎢0 ⎥  ⎢0 ⎥  ⎢-1⎥  ⎢-1⎥  ⎢1 ⎥  ⎢0 ⎥  ⎢0 ⎥⎥\n",
      "⎢⎢  ⎥  ⎢  ⎥  ⎢  ⎥  ⎢  ⎥  ⎢  ⎥  ⎢  ⎥  ⎢  ⎥  ⎢  ⎥  ⎢  ⎥  ⎢  ⎥  ⎢  ⎥  ⎢  ⎥  ⎢  ⎥⎥\n",
      "⎢⎢0 ⎥  ⎢0 ⎥  ⎢0 ⎥  ⎢0 ⎥  ⎢0 ⎥  ⎢0 ⎥  ⎢0 ⎥  ⎢0 ⎥  ⎢1 ⎥  ⎢0 ⎥  ⎢-1⎥  ⎢0 ⎥  ⎢0 ⎥⎥\n",
      "⎢⎢  ⎥  ⎢  ⎥  ⎢  ⎥  ⎢  ⎥  ⎢  ⎥  ⎢  ⎥  ⎢  ⎥  ⎢  ⎥  ⎢  ⎥  ⎢  ⎥  ⎢  ⎥  ⎢  ⎥  ⎢  ⎥⎥\n",
      "⎢⎢0 ⎥  ⎢0 ⎥  ⎢0 ⎥  ⎢0 ⎥  ⎢-1⎥  ⎢0 ⎥  ⎢0 ⎥  ⎢0 ⎥  ⎢0 ⎥  ⎢0 ⎥  ⎢0 ⎥  ⎢0 ⎥  ⎢0 ⎥⎥\n",
      "⎢⎢  ⎥  ⎢  ⎥  ⎢  ⎥  ⎢  ⎥  ⎢  ⎥  ⎢  ⎥  ⎢  ⎥  ⎢  ⎥  ⎢  ⎥  ⎢  ⎥  ⎢  ⎥  ⎢  ⎥  ⎢  ⎥⎥\n",
      "⎢⎢0 ⎥  ⎢-1⎥  ⎢0 ⎥  ⎢0 ⎥  ⎢0 ⎥  ⎢0 ⎥  ⎢0 ⎥  ⎢0 ⎥  ⎢0 ⎥  ⎢0 ⎥  ⎢0 ⎥  ⎢0 ⎥  ⎢0 ⎥⎥\n",
      "⎢⎢  ⎥  ⎢  ⎥  ⎢  ⎥  ⎢  ⎥  ⎢  ⎥  ⎢  ⎥  ⎢  ⎥  ⎢  ⎥  ⎢  ⎥  ⎢  ⎥  ⎢  ⎥  ⎢  ⎥  ⎢  ⎥⎥\n",
      "⎢⎢0 ⎥  ⎢0 ⎥  ⎢0 ⎥  ⎢0 ⎥  ⎢1 ⎥  ⎢0 ⎥  ⎢0 ⎥  ⎢0 ⎥  ⎢0 ⎥  ⎢0 ⎥  ⎢0 ⎥  ⎢0 ⎥  ⎢0 ⎥⎥\n",
      "⎢⎢  ⎥  ⎢  ⎥  ⎢  ⎥  ⎢  ⎥  ⎢  ⎥  ⎢  ⎥  ⎢  ⎥  ⎢  ⎥  ⎢  ⎥  ⎢  ⎥  ⎢  ⎥  ⎢  ⎥  ⎢  ⎥⎥\n",
      "⎢⎢1 ⎥  ⎢0 ⎥  ⎢0 ⎥  ⎢0 ⎥  ⎢0 ⎥  ⎢0 ⎥  ⎢0 ⎥  ⎢0 ⎥  ⎢0 ⎥  ⎢0 ⎥  ⎢0 ⎥  ⎢0 ⎥  ⎢0 ⎥⎥\n",
      "⎢⎢  ⎥  ⎢  ⎥  ⎢  ⎥  ⎢  ⎥  ⎢  ⎥  ⎢  ⎥  ⎢  ⎥  ⎢  ⎥  ⎢  ⎥  ⎢  ⎥  ⎢  ⎥  ⎢  ⎥  ⎢  ⎥⎥\n",
      "⎢⎢0 ⎥  ⎢1 ⎥  ⎢0 ⎥  ⎢0 ⎥  ⎢0 ⎥  ⎢0 ⎥  ⎢0 ⎥  ⎢0 ⎥  ⎢0 ⎥  ⎢0 ⎥  ⎢0 ⎥  ⎢0 ⎥  ⎢0 ⎥⎥\n",
      "⎢⎢  ⎥  ⎢  ⎥  ⎢  ⎥  ⎢  ⎥  ⎢  ⎥  ⎢  ⎥  ⎢  ⎥  ⎢  ⎥  ⎢  ⎥  ⎢  ⎥  ⎢  ⎥  ⎢  ⎥  ⎢  ⎥⎥\n",
      "⎢⎢0 ⎥  ⎢0 ⎥  ⎢1 ⎥  ⎢0 ⎥  ⎢0 ⎥  ⎢0 ⎥  ⎢0 ⎥  ⎢0 ⎥  ⎢0 ⎥  ⎢0 ⎥  ⎢0 ⎥  ⎢0 ⎥  ⎢0 ⎥⎥\n",
      "⎢⎢  ⎥, ⎢  ⎥, ⎢  ⎥, ⎢  ⎥, ⎢  ⎥, ⎢  ⎥, ⎢  ⎥, ⎢  ⎥, ⎢  ⎥, ⎢  ⎥, ⎢  ⎥, ⎢  ⎥, ⎢  ⎥⎥\n",
      "⎢⎢0 ⎥  ⎢0 ⎥  ⎢0 ⎥  ⎢1 ⎥  ⎢0 ⎥  ⎢0 ⎥  ⎢0 ⎥  ⎢0 ⎥  ⎢0 ⎥  ⎢0 ⎥  ⎢0 ⎥  ⎢0 ⎥  ⎢0 ⎥⎥\n",
      "⎢⎢  ⎥  ⎢  ⎥  ⎢  ⎥  ⎢  ⎥  ⎢  ⎥  ⎢  ⎥  ⎢  ⎥  ⎢  ⎥  ⎢  ⎥  ⎢  ⎥  ⎢  ⎥  ⎢  ⎥  ⎢  ⎥⎥\n",
      "⎢⎢0 ⎥  ⎢0 ⎥  ⎢0 ⎥  ⎢0 ⎥  ⎢1 ⎥  ⎢0 ⎥  ⎢0 ⎥  ⎢0 ⎥  ⎢0 ⎥  ⎢0 ⎥  ⎢0 ⎥  ⎢0 ⎥  ⎢0 ⎥⎥\n",
      "⎢⎢  ⎥  ⎢  ⎥  ⎢  ⎥  ⎢  ⎥  ⎢  ⎥  ⎢  ⎥  ⎢  ⎥  ⎢  ⎥  ⎢  ⎥  ⎢  ⎥  ⎢  ⎥  ⎢  ⎥  ⎢  ⎥⎥\n",
      "⎢⎢0 ⎥  ⎢0 ⎥  ⎢0 ⎥  ⎢0 ⎥  ⎢0 ⎥  ⎢0 ⎥  ⎢0 ⎥  ⎢0 ⎥  ⎢-1⎥  ⎢-1⎥  ⎢1 ⎥  ⎢0 ⎥  ⎢0 ⎥⎥\n",
      "⎢⎢  ⎥  ⎢  ⎥  ⎢  ⎥  ⎢  ⎥  ⎢  ⎥  ⎢  ⎥  ⎢  ⎥  ⎢  ⎥  ⎢  ⎥  ⎢  ⎥  ⎢  ⎥  ⎢  ⎥  ⎢  ⎥⎥\n",
      "⎢⎢0 ⎥  ⎢0 ⎥  ⎢0 ⎥  ⎢0 ⎥  ⎢0 ⎥  ⎢1 ⎥  ⎢0 ⎥  ⎢0 ⎥  ⎢0 ⎥  ⎢0 ⎥  ⎢0 ⎥  ⎢0 ⎥  ⎢0 ⎥⎥\n",
      "⎢⎢  ⎥  ⎢  ⎥  ⎢  ⎥  ⎢  ⎥  ⎢  ⎥  ⎢  ⎥  ⎢  ⎥  ⎢  ⎥  ⎢  ⎥  ⎢  ⎥  ⎢  ⎥  ⎢  ⎥  ⎢  ⎥⎥\n",
      "⎢⎢0 ⎥  ⎢0 ⎥  ⎢0 ⎥  ⎢0 ⎥  ⎢0 ⎥  ⎢0 ⎥  ⎢1 ⎥  ⎢0 ⎥  ⎢0 ⎥  ⎢0 ⎥  ⎢0 ⎥  ⎢0 ⎥  ⎢0 ⎥⎥\n",
      "⎢⎢  ⎥  ⎢  ⎥  ⎢  ⎥  ⎢  ⎥  ⎢  ⎥  ⎢  ⎥  ⎢  ⎥  ⎢  ⎥  ⎢  ⎥  ⎢  ⎥  ⎢  ⎥  ⎢  ⎥  ⎢  ⎥⎥\n",
      "⎢⎢0 ⎥  ⎢0 ⎥  ⎢0 ⎥  ⎢0 ⎥  ⎢0 ⎥  ⎢0 ⎥  ⎢0 ⎥  ⎢1 ⎥  ⎢0 ⎥  ⎢0 ⎥  ⎢0 ⎥  ⎢0 ⎥  ⎢0 ⎥⎥\n",
      "⎢⎢  ⎥  ⎢  ⎥  ⎢  ⎥  ⎢  ⎥  ⎢  ⎥  ⎢  ⎥  ⎢  ⎥  ⎢  ⎥  ⎢  ⎥  ⎢  ⎥  ⎢  ⎥  ⎢  ⎥  ⎢  ⎥⎥\n",
      "⎢⎢0 ⎥  ⎢0 ⎥  ⎢0 ⎥  ⎢0 ⎥  ⎢0 ⎥  ⎢0 ⎥  ⎢0 ⎥  ⎢0 ⎥  ⎢1 ⎥  ⎢0 ⎥  ⎢0 ⎥  ⎢0 ⎥  ⎢0 ⎥⎥\n",
      "⎢⎢  ⎥  ⎢  ⎥  ⎢  ⎥  ⎢  ⎥  ⎢  ⎥  ⎢  ⎥  ⎢  ⎥  ⎢  ⎥  ⎢  ⎥  ⎢  ⎥  ⎢  ⎥  ⎢  ⎥  ⎢  ⎥⎥\n",
      "⎢⎢0 ⎥  ⎢0 ⎥  ⎢0 ⎥  ⎢0 ⎥  ⎢0 ⎥  ⎢0 ⎥  ⎢0 ⎥  ⎢0 ⎥  ⎢0 ⎥  ⎢1 ⎥  ⎢0 ⎥  ⎢0 ⎥  ⎢0 ⎥⎥\n",
      "⎢⎢  ⎥  ⎢  ⎥  ⎢  ⎥  ⎢  ⎥  ⎢  ⎥  ⎢  ⎥  ⎢  ⎥  ⎢  ⎥  ⎢  ⎥  ⎢  ⎥  ⎢  ⎥  ⎢  ⎥  ⎢  ⎥⎥\n",
      "⎢⎢0 ⎥  ⎢0 ⎥  ⎢0 ⎥  ⎢0 ⎥  ⎢0 ⎥  ⎢0 ⎥  ⎢0 ⎥  ⎢0 ⎥  ⎢0 ⎥  ⎢0 ⎥  ⎢1 ⎥  ⎢0 ⎥  ⎢0 ⎥⎥\n",
      "⎢⎢  ⎥  ⎢  ⎥  ⎢  ⎥  ⎢  ⎥  ⎢  ⎥  ⎢  ⎥  ⎢  ⎥  ⎢  ⎥  ⎢  ⎥  ⎢  ⎥  ⎢  ⎥  ⎢  ⎥  ⎢  ⎥⎥\n",
      "⎢⎢0 ⎥  ⎢0 ⎥  ⎢0 ⎥  ⎢0 ⎥  ⎢0 ⎥  ⎢0 ⎥  ⎢0 ⎥  ⎢0 ⎥  ⎢0 ⎥  ⎢0 ⎥  ⎢0 ⎥  ⎢1 ⎥  ⎢0 ⎥⎥\n",
      "⎢⎢  ⎥  ⎢  ⎥  ⎢  ⎥  ⎢  ⎥  ⎢  ⎥  ⎢  ⎥  ⎢  ⎥  ⎢  ⎥  ⎢  ⎥  ⎢  ⎥  ⎢  ⎥  ⎢  ⎥  ⎢  ⎥⎥\n",
      "⎢⎢0 ⎥  ⎢0 ⎥  ⎢0 ⎥  ⎢0 ⎥  ⎢0 ⎥  ⎢0 ⎥  ⎢0 ⎥  ⎢0 ⎥  ⎢0 ⎥  ⎢0 ⎥  ⎢0 ⎥  ⎢0 ⎥  ⎢1 ⎥⎥\n",
      "⎢⎢  ⎥  ⎢  ⎥  ⎢  ⎥  ⎢  ⎥  ⎢  ⎥  ⎢  ⎥  ⎢  ⎥  ⎢  ⎥  ⎢  ⎥  ⎢  ⎥  ⎢  ⎥  ⎢  ⎥  ⎢  ⎥⎥\n",
      "⎢⎢0 ⎥  ⎢0 ⎥  ⎢0 ⎥  ⎢0 ⎥  ⎢0 ⎥  ⎢0 ⎥  ⎢0 ⎥  ⎢0 ⎥  ⎢0 ⎥  ⎢0 ⎥  ⎢0 ⎥  ⎢0 ⎥  ⎢0 ⎥⎥\n",
      "⎢⎢  ⎥  ⎢  ⎥  ⎢  ⎥  ⎢  ⎥  ⎢  ⎥  ⎢  ⎥  ⎢  ⎥  ⎢  ⎥  ⎢  ⎥  ⎢  ⎥  ⎢  ⎥  ⎢  ⎥  ⎢  ⎥⎥\n",
      "⎣⎣0 ⎦  ⎣0 ⎦  ⎣0 ⎦  ⎣0 ⎦  ⎣0 ⎦  ⎣0 ⎦  ⎣0 ⎦  ⎣0 ⎦  ⎣0 ⎦  ⎣0 ⎦  ⎣0 ⎦  ⎣0 ⎦  ⎣0 ⎦⎦\n"
     ]
    }
   ],
   "source": [
    "# We have to calculate the left null space of the matrix to find the rows\n",
    "# which elements add up to an even number\n",
    "NS = matrix.T.nullspace()\n",
    "\n",
    "print(\"Left Null Space of the Matrix:\")\n",
    "sp.pprint(NS)"
   ]
  },
  {
   "cell_type": "code",
   "execution_count": 9,
   "id": "2e5c11a3-c0d9-44c7-a368-199318fee5a9",
   "metadata": {},
   "outputs": [],
   "source": [
    "# At this point we could pick either one among the left null spaces and use it\n",
    "# to compute the product of the relations we are looking for but unfortunately this algorithm\n",
    "# can fail or lead to a partial solution so we have to try all the null spaces to increase the chances\n",
    "# of finding p and q.\n",
    "products_array = []\n",
    "\n",
    "for i in range(len(NS)):\n",
    "    x_2_product, y_2_product = 1, 1\n",
    "    for j in range(len(NS[i])):\n",
    "        if(NS[i][j] != 0):\n",
    "            x_2_product = x_2_product*smooth_relations[j][0]**abs(NS[i][j])\n",
    "            y_2_product = y_2_product*smooth_relations[j][1]**abs(NS[i][j])\n",
    "    products_array.append([x_2_product, y_2_product])"
   ]
  },
  {
   "cell_type": "code",
   "execution_count": 10,
   "id": "1dae1d81-af11-48c4-beac-84fdc103ccee",
   "metadata": {},
   "outputs": [],
   "source": [
    "solution_p, solution_q = 0,0\n",
    "\n",
    "for i in range(len(products_array)):\n",
    "    p = gcd(int(sqrt(products_array[i][0])) - int(sqrt(products_array[i][1])), N)\n",
    "    q = gcd(int(sqrt(products_array[i][0])) + int(sqrt(products_array[i][1])), N)\n",
    "    #I have to distinguish the cases in which p and q are the solution, a partial solution or not a solution\n",
    "    if(p != 1 and p != N and q != 1 and q != N and p != q):\n",
    "        # In this case we have the complete solution\n",
    "        solution_p = p\n",
    "        solution_q = q\n",
    "        break\n",
    "    elif((p != 1 and p != N and (q == 1 or q == N)) or (q != 1 and q != N and (p == 1 or p == N))):\n",
    "        # In this case we have a partial solution\n",
    "        if(p != 1 and p != N):\n",
    "            solution_p = p\n",
    "            solution_q = N/p\n",
    "        else:\n",
    "            solution_q = q\n",
    "            solution_p = N/q\n",
    "        break"
   ]
  },
  {
   "cell_type": "code",
   "execution_count": 11,
   "id": "4474e1e3-4ccb-4dfa-997b-b6202aa828d0",
   "metadata": {},
   "outputs": [
    {
     "name": "stdout",
     "output_type": "stream",
     "text": [
      "The two factors of 20791 are 17 and 1223\n"
     ]
    }
   ],
   "source": [
    "# Now we have to show the outcome of the algorithm\n",
    "if(solution_p != 0 and solution_q != 0):\n",
    "    print(\"The two factors of %i are %i and %i\" % (N, solution_p, solution_q))\n",
    "else:\n",
    "    print(\"The algorithm could not find a solution. Try to change the upper bound B and run the algorithm again\")"
   ]
  }
 ],
 "metadata": {
  "kernelspec": {
   "display_name": "Python 3 (ipykernel)",
   "language": "python",
   "name": "python3"
  },
  "language_info": {
   "codemirror_mode": {
    "name": "ipython",
    "version": 3
   },
   "file_extension": ".py",
   "mimetype": "text/x-python",
   "name": "python",
   "nbconvert_exporter": "python",
   "pygments_lexer": "ipython3",
   "version": "3.11.3"
  }
 },
 "nbformat": 4,
 "nbformat_minor": 5
}
