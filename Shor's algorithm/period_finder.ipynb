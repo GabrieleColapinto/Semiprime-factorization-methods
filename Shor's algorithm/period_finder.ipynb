{
 "cells": [
  {
   "cell_type": "code",
   "execution_count": 1,
   "id": "898c2355-7c24-4a0e-9a18-4a55e02950c8",
   "metadata": {},
   "outputs": [
    {
     "name": "stdout",
     "output_type": "stream",
     "text": [
      "The period of the function is 10.\n",
      "\n"
     ]
    }
   ],
   "source": [
    "from math import gcd\n",
    "\n",
    "N = 22 # Product of prime numbers\n",
    "a = 7 # Base for the period finding\n",
    "r = 1 # Period of the function\n",
    "\n",
    "# The purpose of this script is to find the period of the function so I have to exclude the cases\n",
    "# in which a and N are not coprime despite the fact that in these cases we already have a factor of N\n",
    "if(gcd(a,N)!=1):\n",
    "    raise ValueError(\"The two numbers are not coprime\")\n",
    "\n",
    "# I increase the value of r until I find the one I am looking for\n",
    "while((a**r)%N != 1):\n",
    "    r += 1\n",
    "\n",
    "print(\"The period of the function is %d.\\n\" % r)\n",
    "\n",
    "if (r%2 != 0):\n",
    "    raise ValueError(\"The period is not an even number so it cannot be used for Shor's algorithm!\")"
   ]
  }
 ],
 "metadata": {
  "kernelspec": {
   "display_name": "Python 3 (ipykernel)",
   "language": "python",
   "name": "python3"
  },
  "language_info": {
   "codemirror_mode": {
    "name": "ipython",
    "version": 3
   },
   "file_extension": ".py",
   "mimetype": "text/x-python",
   "name": "python",
   "nbconvert_exporter": "python",
   "pygments_lexer": "ipython3",
   "version": "3.11.3"
  }
 },
 "nbformat": 4,
 "nbformat_minor": 5
}
